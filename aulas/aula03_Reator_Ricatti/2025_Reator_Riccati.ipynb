{
  "cells": [
    {
      "cell_type": "markdown",
      "metadata": {
        "id": "view-in-github",
        "colab_type": "text"
      },
      "source": [
        "<a href=\"https://colab.research.google.com/github/emiliomercuri/FundEngAmb2025/blob/main/aulas/aula03_Reator_Ricatti/2025_Reator_Riccati.ipynb\" target=\"_parent\"><img src=\"https://colab.research.google.com/assets/colab-badge.svg\" alt=\"Open In Colab\"/></a>"
      ]
    },
    {
      "cell_type": "markdown",
      "source": [
        "# Exemplo 5: RMC com reação de 2$^{\\rm a}$ ordem (Reator de Riccati)\n",
        "\n",
        "Um RMC opera com uma reação de 2$^{\\rm a}$ ordem para destruição de uma substância, conforme ilustrado na Figura abaixo. A vazão de entrada é a mesma da saída, $Q$, a concentração afluente $C_a$ é constante, e a condição inicial é o reator com concentração $C_0$. Obter a solução geral em função do tempo."
      ],
      "metadata": {
        "id": "zGXTKFYKzPKO"
      }
    },
    {
      "cell_type": "code",
      "source": [
        "# insert image in a text cell from link in dropbox\n",
        "from IPython.display import Image\n",
        "Image(url=\"https://www.dropbox.com/scl/fi/q2kae2lhvhlfxscvahwq4/reator.png?rlkey=2m9mil6igdpfmj9ak2qewzyop&st=zj65853w&dl=1\", width=300)"
      ],
      "metadata": {
        "colab": {
          "base_uri": "https://localhost:8080/",
          "height": 199
        },
        "id": "32fP3wpOz9Pc",
        "outputId": "90a7df3f-9e18-44dc-e495-b37c02bf72cf"
      },
      "execution_count": 2,
      "outputs": [
        {
          "output_type": "execute_result",
          "data": {
            "text/html": [
              "<img src=\"https://www.dropbox.com/scl/fi/q2kae2lhvhlfxscvahwq4/reator.png?rlkey=2m9mil6igdpfmj9ak2qewzyop&st=zj65853w&dl=1\" width=\"300\"/>"
            ],
            "text/plain": [
              "<IPython.core.display.Image object>"
            ]
          },
          "metadata": {},
          "execution_count": 2
        }
      ]
    },
    {
      "cell_type": "markdown",
      "source": [
        "### Solução\n",
        "\n",
        "A solução demonstrada no material é:\n",
        "\n",
        "\\begin{equation}\n",
        "C = \\frac{1}{ k \\left( C_1 e^{\\alpha_1 t} + C_2 e^{\\alpha_2 t}  \\right)  }\n",
        "\\left( C_1 \\alpha_1 e^{\\alpha_1 t} + C_2 \\alpha_2 e^{\\alpha_2 t} \\right)\n",
        "\\end{equation}\n",
        "\n",
        "sendo:\n",
        "\\begin{equation}\n",
        "\\alpha_{1,2} = - \\frac{Q}{2V} \\pm \\frac{\\sqrt{\\left( \\frac{Q}{V} \\right)^2 + 4 \\frac{Q}{V} C_a k }}{2}\n",
        "\\end{equation}"
      ],
      "metadata": {
        "id": "2_dASxrH0Mjn"
      }
    },
    {
      "cell_type": "markdown",
      "source": [
        "As constantes são:\n",
        "\\begin{equation}\n",
        " C_1 =  1 - C_2\n",
        "\\end{equation}\n",
        "\n",
        "\\begin{equation}\n",
        "C_2 = \\frac{C_0 k - \\alpha_1} {(\\alpha_2 - \\alpha_1) }\n",
        "\\end{equation}"
      ],
      "metadata": {
        "id": "jWhPqFyp0f2c"
      }
    },
    {
      "cell_type": "code",
      "execution_count": null,
      "metadata": {
        "id": "Z7NK1G9BhxVx"
      },
      "outputs": [],
      "source": [
        "from sympy import *\n",
        "from sympy.plotting import plot"
      ]
    },
    {
      "cell_type": "code",
      "source": [
        "C, C1, C2, t = symbols('C C1 C2 t')\n",
        "\n",
        "#k = 0.1 # m3/(kg s)\n",
        "k = 0.5 # m3/(kg s)\n",
        "V = 10 # Litros\n",
        "Q = 1 # m3/s\n",
        "Ca = 2 # mg/L\n",
        "C0 = 2.1 # mg/L\n",
        "\n",
        "lamb =  Q/V\n",
        "\n",
        "alfa1 =  -lamb/2 + sqrt(lamb**2 + 4*lamb*Ca*k)/2\n",
        "alfa2 =  -lamb/2 - sqrt(lamb**2 + 4*lamb*Ca*k)/2\n",
        "\n",
        "u = C1*exp(alfa1*t) + C2*exp(alfa2*t)\n",
        "print(u)\n",
        "\n",
        "C2 = (C0*k-alfa1)/(alfa2-alfa1)\n",
        "C1 = 1 - C2\n",
        "\n",
        "C = 1/(k*( C1*exp(alfa1*t) + C2*exp(alfa2*t))) * (C1*alfa1*exp(alfa1*t) + C2*alfa2*exp(alfa2*t))\n",
        "C = simplify(C)\n",
        "print(C)\n"
      ],
      "metadata": {
        "colab": {
          "base_uri": "https://localhost:8080/"
        },
        "id": "q1qSzdm-h91P",
        "outputId": "88932351-10f4-49d3-f032-62d51b5c9640"
      },
      "execution_count": null,
      "outputs": [
        {
          "output_type": "stream",
          "name": "stdout",
          "text": [
            "C1*exp(0.270156211871642*t) + C2*exp(-0.370156211871642*t)\n",
            "(0.599182536897088*exp(0.640312423743285*t) + 0.450817463102912)/(1.10895569038733*exp(0.640312423743285*t) - 0.608955690387333)\n"
          ]
        }
      ]
    },
    {
      "cell_type": "code",
      "execution_count": null,
      "metadata": {
        "colab": {
          "base_uri": "https://localhost:8080/",
          "height": 485
        },
        "id": "0Tc4YVJQhxVy",
        "outputId": "a77d6bba-c0e7-490f-8f18-6f77656e3d84"
      },
      "outputs": [
        {
          "output_type": "display_data",
          "data": {
            "text/plain": [
              "<Figure size 640x480 with 1 Axes>"
            ],
            "image/png": "[encoded data removed]"
          },
          "metadata": {}
        }
      ],
      "source": [
        "# Gráfico do Resultado\n",
        "p = plot(C,(t, 0, 10), show=False, ylim = (-0.1,3.5))\n",
        "# Customize the x-axis to be at y=0\n",
        "p[0].line_color = 'blue'\n",
        "\n",
        "# Add a horizontal line at y=0 (only to adjust the graph)\n",
        "p.extend(plot(0, (t, 0, 10), line_color='black', show=False))\n",
        "\n",
        "p.show()"
      ]
    },
    {
      "cell_type": "code",
      "source": [],
      "metadata": {
        "id": "5HwpoMq1iXVg"
      },
      "execution_count": null,
      "outputs": []
    }
  ],
  "metadata": {
    "anaconda-cloud": {},
    "kernelspec": {
      "display_name": "Python 3",
      "language": "python",
      "name": "python3"
    },
    "language_info": {
      "codemirror_mode": {
        "name": "ipython",
        "version": 3
      },
      "file_extension": ".py",
      "mimetype": "text/x-python",
      "name": "python",
      "nbconvert_exporter": "python",
      "pygments_lexer": "ipython3",
      "version": "3.7.5"
    },
    "colab": {
      "provenance": [],
      "include_colab_link": true
    }
  },
  "nbformat": 4,
  "nbformat_minor": 0
}