{
  "nbformat": 4,
  "nbformat_minor": 0,
  "metadata": {
    "colab": {
      "provenance": [],
      "authorship_tag": "ABX9TyN5mIrLjZBqEHPs1aEZZXh6",
      "include_colab_link": true
    },
    "kernelspec": {
      "name": "python3",
      "display_name": "Python 3"
    }
  },
  "cells": [
    {
      "cell_type": "markdown",
      "metadata": {
        "id": "view-in-github",
        "colab_type": "text"
      },
      "source": [
        "<a href=\"https://colab.research.google.com/github/emiliomercuri/FundEngAmb2025/blob/main/aulas/aula06_Reacoes_simultaneas_Euler/Me%CC%81todo_de_Euler_Parte_1_(teste_de_converge%CC%82ncia).ipynb\" target=\"_parent\"><img src=\"https://colab.research.google.com/assets/colab-badge.svg\" alt=\"Open In Colab\"/></a>"
      ]
    },
    {
      "cell_type": "markdown",
      "metadata": {
        "id": "XAQfa2YqM9L8"
      },
      "source": [
        "### Resolvendo o sistema de Equações:\n",
        "$$\n",
        "\\begin{array}{l}\n",
        "\\displaystyle \\frac{d a}{d t}=-k_{1} a b-k_{2} a^{2} \\quad a=a_{0} \\quad \\text { em } \\quad t=0 \\\\\n",
        "\\displaystyle \\displaystyle \\frac{d b}{d t}=-k_{1} a b \\quad b=b_{0} \\quad \\text { em } \\quad t=0 \\\\\n",
        "\\displaystyle \\frac{d c}{d t}=+k_{1} a b-k_{2} c \\quad c=c_{0} \\text { em } t=0 \\\\\n",
        "\\displaystyle \\frac{\\mathrm{d} d}{\\mathrm{~d} t}=\\left(k_{3} / 2\\right) a^{2} \\quad d=d_{0} \\text { em } t=0 \\\\\n",
        "\\displaystyle \\frac{d e}{d t}=+2 k_{2} c \\quad e=e_{0} \\text { em } t=0\n",
        "\\end{array}\n",
        "$$"
      ]
    },
    {
      "cell_type": "code",
      "metadata": {
        "id": "ZnczEHKLzttG"
      },
      "source": [
        "# Importando as bibliotecas\n",
        "import numpy\n",
        "from matplotlib import pyplot\n",
        "%matplotlib inline"
      ],
      "execution_count": 1,
      "outputs": []
    },
    {
      "cell_type": "code",
      "metadata": {
        "id": "LgIWQ0BF0W26",
        "colab": {
          "base_uri": "https://localhost:8080/"
        },
        "outputId": "fc21ce8a-2ef9-4e86-a73e-83425e555446"
      },
      "source": [
        "# constantes das taxas de reação\n",
        "k1=0.1 # m^3/(mol h)\n",
        "k2=1.2 # h^(-1)\n",
        "k3=0.06 # m^3/(mol h)\n",
        "tmax = 1 # h\n",
        "dt = 2 # h\n",
        "\n",
        "for N in range(10):\n",
        "\n",
        "  # concentração inicial de cada componente química\n",
        "  aold = 20.0 # mol/m3\n",
        "  bold = 20.0 # mol/m3\n",
        "  cold = 0.0 # mol/m3\n",
        "  dold = 0.0 # mol/m3\n",
        "  eold = 0.0 # mol/m3\n",
        "\n",
        "  t = 0\n",
        "\n",
        "  dt = dt/4\n",
        "\n",
        "  while t < tmax:\n",
        "\n",
        "    RA=-k1 * aold * bold - k3 * aold**2\n",
        "    RB=-k1 * aold * bold\n",
        "    RC=k1 * aold * bold - k2 * cold\n",
        "    RD=k3/2 * aold**2\n",
        "    RE=2 * k2 * cold\n",
        "\n",
        "    anew=aold + dt * RA\n",
        "    bnew=bold + dt * RB\n",
        "    cnew=cold + dt * RC\n",
        "    dnew=dold + dt * RD\n",
        "    enew=eold + dt * RE\n",
        "\n",
        "    t=t+dt\n",
        "\n",
        "    aold=anew\n",
        "    bold=bnew\n",
        "    cold=cnew\n",
        "    dold=dnew\n",
        "    eold=enew\n",
        "    Sum = aold+bold+cold+dold+eold\n",
        "\n",
        "  # Imprime o passo do tempo e o valor das concentrações no tempo máximo (t = 1)\n",
        "  print(\"%.8f   %.4f %.4f %.4f %.4f %.4f %.4f\" % (dt, anew, bnew, cnew, dnew, enew, Sum))"
      ],
      "execution_count": 5,
      "outputs": [
        {
          "output_type": "stream",
          "name": "stdout",
          "text": [
            "0.50000000   -16.3200 0.0000 8.0000 8.1600 24.0000 23.8400\n",
            "0.12500000   2.8245 8.3687 5.1177 2.7721 13.0271 32.1102\n",
            "0.03125000   3.4367 8.6637 5.1313 2.6135 12.4101 32.2552\n",
            "0.00781250   3.5766 8.7381 5.1208 2.5808 12.2821 32.2984\n",
            "0.00195312   3.6110 8.7567 5.1176 2.5729 12.2513 32.3095\n",
            "0.00048828   3.6195 8.7614 5.1168 2.5709 12.2437 32.3123\n",
            "0.00012207   3.6217 8.7625 5.1166 2.5704 12.2418 32.3130\n",
            "0.00003052   3.6222 8.7628 5.1165 2.5703 12.2413 32.3131\n",
            "0.00000763   3.6223 8.7629 5.1165 2.5703 12.2412 32.3132\n",
            "0.00000191   3.6224 8.7629 5.1165 2.5703 12.2411 32.3132\n"
          ]
        }
      ]
    },
    {
      "cell_type": "code",
      "metadata": {
        "id": "4nSmF--92EFK"
      },
      "source": [],
      "execution_count": null,
      "outputs": []
    }
  ]
}